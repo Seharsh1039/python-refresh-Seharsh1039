{
 "nbformat": 4,
 "nbformat_minor": 0,
 "metadata": {
  "colab": {
   "provenance": [],
   "toc_visible": true,
   "authorship_tag": "ABX9TyMNlpw6dWwEbV1WNnieeTNw"
  },
  "kernelspec": {
   "name": "python3",
   "display_name": "Python 3 (ipykernel)",
   "language": "python"
  },
  "language_info": {
   "name": "python"
  }
 },
 "cells": [
  {
   "cell_type": "code",
   "execution_count": null,
   "metadata": {
    "id": "4sllfcbSyfbF"
   },
   "outputs": [],
   "source": []
  },
  {
   "cell_type": "markdown",
   "source": [
    "#Python Practice Notebook"
   ],
   "metadata": {
    "id": "jZDCLbx1ymY5"
   }
  },
  {
   "cell_type": "code",
   "source": [
    "import df\n",
    "#  Here you can import necessary libraries\n",
    "import pandas as pd\n",
    "import numpy as np\n",
    "import matplotlib.pyplot as plt\n",
    "import seaborn as sns\n",
    "import math\n",
    "import statistics\n",
    "import random"
   ],
   "metadata": {
    "id": "s-DcjA91yjfn"
   },
   "execution_count": null,
   "outputs": []
  },
  {
   "cell_type": "markdown",
   "source": [
    "##Task 1: Python Basics and Variables"
   ],
   "metadata": {
    "id": "uw417JVey4wT"
   }
  },
  {
   "cell_type": "code",
   "source": [
    "\"\"\"\n",
    "Create variables for your name, age, and favorite color.\n",
    "Then create a formatted string that says \"My name is [name], I am [age] years old, and my favorite color is [color].\"\n",
    "Print this string.\n",
    "\"\"\"\n",
    "name = \"Seharsh\"\n",
    "age = 27\n",
    "favorite_color = \"blue\"\n",
    "\n",
    "message = f\"My name is {name}, I am {age} years old , and my favorite color is {favorite_color}.\"\n",
    "print(message)\n",
    "\n",
    "\n"
   ],
   "metadata": {
    "id": "KOFP07eXy-u_",
    "ExecuteTime": {
     "end_time": "2025-08-31T21:02:43.086791Z",
     "start_time": "2025-08-31T21:02:43.079757Z"
    }
   },
   "outputs": [
    {
     "name": "stdout",
     "output_type": "stream",
     "text": [
      "My name is Seharsh, I am 27 years old , and my favorite color is blue.\n"
     ]
    }
   ],
   "execution_count": 4
  },
  {
   "cell_type": "markdown",
   "source": [
    "##Task 2: Input and Output"
   ],
   "metadata": {
    "id": "C0eM6v9ezFJ9"
   }
  },
  {
   "cell_type": "code",
   "source": [
    "\"\"\"\n",
    "Ask the user for their weight in kilograms and height in meters.\n",
    "Calculate their BMI (Body Mass Index) using the formula: BMI = weight / (height^2)\n",
    "Print the result with 2 decimal places.\n",
    "\"\"\"\n",
    "\n",
    "weight = float(input(\"Enter your weight in kilograms: \"))\n",
    "height = float(input(\"Enter your height in meters: \"))\n",
    "\n",
    "\n",
    "bmi = weight / (height ** 2)\n",
    "\n",
    "\n",
    "print(f\"Your BMI is {bmi:.2f}\")\n",
    "\n",
    "\n",
    "\n"
   ],
   "metadata": {
    "id": "1qmqXYsozIDs",
    "ExecuteTime": {
     "end_time": "2025-08-31T21:14:50.026903Z",
     "start_time": "2025-08-31T21:13:42.679888Z"
    }
   },
   "outputs": [
    {
     "name": "stdout",
     "output_type": "stream",
     "text": [
      "Your BMI is 16.51\n"
     ]
    }
   ],
   "execution_count": 5
  },
  {
   "cell_type": "markdown",
   "source": [
    "## Task 3: Numbers and Math Module"
   ],
   "metadata": {
    "id": "93lFBJ9pzP2r"
   }
  },
  {
   "cell_type": "code",
   "source": [
    "\"\"\"\n",
    "Using the math module, calculate the area of a circle with radius 7.5 units.\n",
    "Then, calculate the volume of a sphere with the same radius.\n",
    "Print both results rounded to 3 decimal places.\n",
    "\"\"\"\n",
    "import math\n",
    "\n",
    "radius = 7.5\n",
    "\n",
    "area = math.pi * radius ** 2\n",
    "\n",
    "volume = (4/3) * math.pi * radius ** 3\n",
    "\n",
    "print(f\" Area of the circle {area:.3f}\")\n",
    "print(f\"volume of the sphere: {volume:.2f}\")\n",
    "\n"
   ],
   "metadata": {
    "id": "4MjUW2gkzQ8N",
    "ExecuteTime": {
     "end_time": "2025-08-31T21:19:46.466620Z",
     "start_time": "2025-08-31T21:19:46.454248Z"
    }
   },
   "outputs": [
    {
     "name": "stdout",
     "output_type": "stream",
     "text": [
      " Area of the circle 176.715\n",
      "volume of the sphere: 1767.15\n"
     ]
    }
   ],
   "execution_count": 9
  },
  {
   "cell_type": "markdown",
   "source": [
    "##Task 4: Strings"
   ],
   "metadata": {
    "id": "5o7LTM8rzVM3"
   }
  },
  {
   "cell_type": "code",
   "source": [
    "\"\"\"\n",
    "Create a string variable with the text \"Python Programming\".\n",
    "Print the following:\n",
    "1. The length of the string\n",
    "2. The string in all uppercase\n",
    "3. The last 5 characters of the string\n",
    "4. The string with all 'P' replaced by 'J'\n",
    "\"\"\"\n",
    "text = \"Python Programming\"\n",
    "\n",
    "print(f\"Length of the string: {len(text)}\")\n",
    "\n",
    "print(f\"Uppercase {text.upper()}\")\n",
    "\n",
    "print(f\"Last 5 characters: {text[-5:]}\")\n",
    "\n",
    "print(f\"Replaced 'P' with 'J': {text.replace('P', 'J')}\")"
   ],
   "metadata": {
    "id": "c95xLu4ozWgF",
    "ExecuteTime": {
     "end_time": "2025-08-31T21:26:17.636571Z",
     "start_time": "2025-08-31T21:26:17.616664Z"
    }
   },
   "outputs": [
    {
     "name": "stdout",
     "output_type": "stream",
     "text": [
      "Length of the string: 18\n",
      "Uppercase PYTHON PROGRAMMING\n",
      "Last 5 characters: mming\n",
      "Replaced 'P' with 'J': Jython Jrogramming\n"
     ]
    }
   ],
   "execution_count": 10
  },
  {
   "cell_type": "markdown",
   "source": [
    "## Task 5: Conditionals"
   ],
   "metadata": {
    "id": "Fjn6Dn-azYra"
   }
  },
  {
   "cell_type": "code",
   "source": [
    "\"\"\"\n",
    "Write a program that asks the user for their age.\n",
    "If the age is less than 18, print \"You are a minor.\"\n",
    "If the age is between 18 and 65, print \"You are an adult.\"\n",
    "If the age is 65 or older, print \"You are a senior citizen.\"\n",
    "\"\"\"\n",
    "age = int(input(\"Enter your age: \"))\n",
    "\n",
    "if age < 18:\n",
    "          print(\"You are a minor.\")\n",
    "elif age < 65:\n",
    "    print(\"You are an adult\")\n",
    "else:\n",
    "    print(\"You are a senior citizen.\")\n"
   ],
   "metadata": {
    "id": "nTwJJmEczbGc",
    "ExecuteTime": {
     "end_time": "2025-08-31T21:35:12.707911Z",
     "start_time": "2025-08-31T21:35:07.609180Z"
    }
   },
   "outputs": [
    {
     "name": "stdout",
     "output_type": "stream",
     "text": [
      "You are an adult\n"
     ]
    }
   ],
   "execution_count": 11
  },
  {
   "cell_type": "markdown",
   "source": [
    "## Task 6: Iterations"
   ],
   "metadata": {
    "id": "pyyrWjpBzeJV"
   }
  },
  {
   "cell_type": "code",
   "source": [
    "\"\"\"\n",
    "Use a for loop to print the first 10 Fibonacci numbers.\n",
    "The Fibonacci sequence starts with 0 and 1, and each subsequent number is the sum of the two preceding ones.\n",
    "\"\"\"\n",
    "a, b = 0,1\n",
    "\n",
    "print(\"First 10 Fibonacci numbers:\")\n",
    "\n",
    "for i in range(10):\n",
    "    print(a, end=\" \")\n",
    "    a, b = b, a + b\n"
   ],
   "metadata": {
    "id": "OQ3iBjnCzgoY",
    "ExecuteTime": {
     "end_time": "2025-08-31T21:40:15.023662Z",
     "start_time": "2025-08-31T21:40:15.004932Z"
    }
   },
   "outputs": [
    {
     "name": "stdout",
     "output_type": "stream",
     "text": [
      "First 10 Fibonacci numbers:\n",
      "0 1 1 2 3 5 8 13 21 34 "
     ]
    }
   ],
   "execution_count": 12
  },
  {
   "cell_type": "markdown",
   "source": [
    "## Task 7: Lists"
   ],
   "metadata": {
    "id": "6iWBomoyzjJB"
   }
  },
  {
   "cell_type": "code",
   "source": [
    "\"\"\"\n",
    "Create a list of 10 random numbers between 1 and 100.\n",
    "Then, create a new list that contains only the even numbers from the original list.\n",
    "Print both lists.\n",
    "\"\"\"\n",
    "import random\n",
    "\n",
    "numbers = [random.randint(1, 100) for _ in range(10)]\n",
    "\n",
    "even_numbers = [num for num in numbers if num % 2 ==0]\n",
    "\n",
    "even_numbers = [num for num in numbers if num % 2 == 0]\n",
    "\n",
    "print(f'Orginial numbers: {numbers}')\n",
    "print(f'Even numbers: {even_numbers}')\n"
   ],
   "metadata": {
    "id": "f57oc88ozkdo",
    "ExecuteTime": {
     "end_time": "2025-08-31T21:51:14.738161Z",
     "start_time": "2025-08-31T21:51:14.713086Z"
    }
   },
   "outputs": [
    {
     "name": "stdout",
     "output_type": "stream",
     "text": [
      "Orginial numbers: [62, 29, 89, 70, 3, 75, 100, 73, 44, 34]\n",
      "Even numbers: [62, 70, 100, 44, 34]\n"
     ]
    }
   ],
   "execution_count": 13
  },
  {
   "cell_type": "markdown",
   "source": [
    "## Task 8: Functions"
   ],
   "metadata": {
    "id": "GL5ZTRnJznPo"
   }
  },
  {
   "cell_type": "code",
   "source": [
    "4\"\"\"\n",
    "Write a function called 'is_prime' that takes a number as an argument and returns True if the number is prime, and False otherwise.\n",
    "Test your function with the numbers 17 and 24.\n",
    "\"\"\"\n",
    "def is_prime(n):\n",
    "    \"\"'Return True if n is prime, False otherwise.'''\n",
    "    if n < 1:\n",
    "        return False\n",
    "    for i in range(2, int(n**0.5) + 1):\n",
    "        if n % i == 0:\n",
    "            return False\n",
    "        return True\n",
    "\n",
    "print(f\"17 is prime: {is_prime(17)}\")\n",
    "print(f\"24 is prime: {is_prime(24)}\")\n"
   ],
   "metadata": {
    "id": "CMZEpZ0nzoUM",
    "ExecuteTime": {
     "end_time": "2025-08-31T21:55:28.613837Z",
     "start_time": "2025-08-31T21:55:28.592296Z"
    }
   },
   "outputs": [
    {
     "name": "stdout",
     "output_type": "stream",
     "text": [
      "17 is prime: True\n",
      "24 is prime: False\n"
     ]
    }
   ],
   "execution_count": 14
  },
  {
   "cell_type": "markdown",
   "source": [
    "## Task 9: Dictionaries"
   ],
   "metadata": {
    "id": "fG9_IgKlzq7a"
   }
  },
  {
   "cell_type": "code",
   "source": [
    "4\"\"\"\n",
    "Create a dictionary representing a simple inventory system for a small store.\n",
    "The keys should be item names, and the values should be dictionaries containing the price and quantity of each item.\n",
    "Add at least 5 items to your inventory.\n",
    "Then, write a function that calculates the total value of the inventory.\n",
    "\"\"\"\n",
    "inventory = {\n",
    "    \"Apples\": {\"price\": 0.6, \"quantity\": 30},\n",
    "    \"Banana\": {\"price\": 0.3, \"quantity\": 50},\n",
    "    \"Oranges\": {\"price\": 0.7, \"quantity\": 40},\n",
    "    \"Milk\": {\"price\": 1.5, \"quantity\": 20},\n",
    "    \"Bread\": {\"price\": 2.0, \"quantity\": 15},\n",
    "\n",
    "}\n",
    "\n",
    "def calculate_total_value(inv) :\n",
    "    total = 0\n",
    "    for item, details in inv.items():\n",
    "        total += details[\"price\"] * details[\"quantity\"]\n",
    "        return total\n",
    "\n",
    "    print(f\"Total inventory value: ${calculate_total_value(inventory):.2f}\")\n"
   ],
   "metadata": {
    "id": "dak-1UJqzs0e",
    "ExecuteTime": {
     "end_time": "2025-08-31T22:17:30.349927Z",
     "start_time": "2025-08-31T22:17:30.337594Z"
    }
   },
   "outputs": [],
   "execution_count": 19
  },
  {
   "cell_type": "markdown",
   "source": [
    "## Task 10: Pandas"
   ],
   "metadata": {
    "id": "pmN47lxgzuxC"
   }
  },
  {
   "cell_type": "code",
   "source": [
    "\"\"\"\n",
    "Create a DataFrame with the following data:\n",
    "Name: ['Alice', 'Bob', 'Charlie', 'David', 'Eve']\n",
    "Age: [25, 30, 35, 28, 22]\n",
    "City: ['New York', 'San Francisco', 'Los Angeles', 'Chicago', 'Boston']\n",
    "Salary: [50000, 70000, 65000, 55000, 45000]\n",
    "\n",
    "Then, perform the following operations:\n",
    "1. Sort the DataFrame by Salary in descending order\n",
    "2. Calculate the average age\n",
    "3. Find the person with the highest salary\n",
    "4. Create a new column 'Salary_Category' where salary > 60000 is 'High', otherwise 'Low'\n",
    "\"\"\"\n",
    "data = {\n",
    "    \"Name\": [\"Alice\", \"Bob\", \"Charlie\", \"David\", \"Eve\"],\n",
    "    \"Age\": [25, 30, 35, 28, 22],\n",
    "    \"City\": [\"New York\",\"San Francisco\", \"Los Angeles\", \"Chicago\", \"Boston\"],\n",
    "    \"Salary\": [50000, 70000, 65000, 55000, 45000]\n",
    "}\n",
    "\n",
    "\n",
    "df = pd.DataFrame(data)\n",
    "\n",
    "df_sorted = df.sort_values(by=\"Salary\", ascending=False)\n",
    "\n",
    "\n",
    "average_age = df[\"Age\"].mean()\n",
    "\n",
    "\n",
    "highest_salary_person = df.loc[df[\"Salary\"].idxmax(), \"Name\"]\n",
    "\n",
    "\n",
    "df[\"Salary_Category\"] = df[\"Salary\"].apply(lambda x: \"High\" if x > 60000 else \"Low\")\n",
    "\n",
    "print(\"DataFrame sorted by Salary (descending):\\n\", df_sorted)\n",
    "print(\"\\nAverage Age:\", average_age)\n",
    "print(\"\\nPerson with the highest salary:\", highest_salary_person)\n",
    "print(\"\\nDataFrame with Salary_Category:\\n\", df)\n"
   ],
   "metadata": {
    "id": "r_zFSELQzw8Y",
    "ExecuteTime": {
     "end_time": "2025-08-31T23:56:38.804075Z",
     "start_time": "2025-08-31T23:56:38.766144Z"
    }
   },
   "outputs": [
    {
     "name": "stdout",
     "output_type": "stream",
     "text": [
      "DataFrame sorted by Salary (descending):\n",
      "       Name  Age           City  Salary\n",
      "1      Bob   30  San Francisco   70000\n",
      "2  Charlie   35    Los Angeles   65000\n",
      "3    David   28        Chicago   55000\n",
      "0    Alice   25       New York   50000\n",
      "4      Eve   22         Boston   45000\n",
      "\n",
      "Average Age: 28.0\n",
      "\n",
      "Person with the highest salary: Bob\n",
      "\n",
      "DataFrame with Salary_Category:\n",
      "       Name  Age           City  Salary Salary_Category\n",
      "0    Alice   25       New York   50000             Low\n",
      "1      Bob   30  San Francisco   70000            High\n",
      "2  Charlie   35    Los Angeles   65000            High\n",
      "3    David   28        Chicago   55000             Low\n",
      "4      Eve   22         Boston   45000             Low\n"
     ]
    }
   ],
   "execution_count": 28
  },
  {
   "cell_type": "markdown",
   "source": [
    "## Task 11: NumPy"
   ],
   "metadata": {
    "id": "3JdDtNQFzysD"
   }
  },
  {
   "cell_type": "code",
   "source": [
    "\"\"\"\n",
    "Create a 5x5 NumPy array of random integers between 1 and 100.\n",
    "Then, perform the following operations:\n",
    "1. Calculate the mean of each row\n",
    "2. Find the maximum value in each column\n",
    "3. Replace all odd numbers in the array with -1\n",
    "4. Calculate the determinant of the resulting matrix\n",
    "\"\"\"\n",
    "import numpy as np\n",
    "arr = np.random.randint (1, 101, size=(5, 5))\n",
    "print(\"Original array:\\n\", arr)\n",
    "\n",
    "row_means = np.mean(arr, axis=1)\n",
    "print(\"\\Mean of each row:\\n\", row_means)\n",
    "\n",
    "col_max = np.max(arr, axis=0)\n",
    "print(\"Maximum value in each column:\\n\", col_max)\n",
    "\n",
    "arr[arr % 2 != 0] = -1\n",
    "print(\"\\ Array with odd numbers replaced by -1::\\n\", arr)\n",
    "\n",
    "determinant = np.linalg.det(arr)\n",
    "print(\"\\nDeterminant of the resulting matrix:\", determinant)"
   ],
   "metadata": {
    "id": "9fGBN2yAz03o",
    "ExecuteTime": {
     "end_time": "2025-09-01T00:06:28.161338Z",
     "start_time": "2025-09-01T00:06:28.150019Z"
    }
   },
   "outputs": [
    {
     "name": "stdout",
     "output_type": "stream",
     "text": [
      "Original array:\n",
      " [[93  6 92 20  4]\n",
      " [81 92 88 82 53]\n",
      " [54 13 40 48 90]\n",
      " [77 49 15 20 47]\n",
      " [64  1 69 86 34]]\n",
      "\\Mean of each row:\n",
      " [43.  79.2 49.  41.6 50.8]\n",
      "Maximum value in each column:\n",
      " [93 92 92 86 90]\n",
      "\\ Array with odd numbers replaced by -1::\n",
      " [[-1  6 92 20  4]\n",
      " [-1 92 88 82 -1]\n",
      " [54 -1 40 48 90]\n",
      " [-1 -1 -1 20 -1]\n",
      " [64 -1 -1 86 34]]\n",
      "\n",
      "Determinant of the resulting matrix: 661262175.9999994\n"
     ]
    }
   ],
   "execution_count": 31
  },
  {
   "cell_type": "markdown",
   "source": [
    "## Task 12: Visualization with Matplotlib and Seaborn"
   ],
   "metadata": {
    "id": "8phn5TeQz3o7"
   }
  },
  {
   "cell_type": "code",
   "source": [
    "\"\"\"\n",
    "Using the DataFrame from Task 10:\n",
    "1. Create a scatter plot of Age vs Salary using Matplotlib\n",
    "2. Create a bar plot of average salary by city using Seaborn\n",
    "\"\"\"\n",
    "import matplotlib.pyplot as plt\n",
    "import seaborn as sns\n",
    "\n",
    "\n",
    "plt.figure(figsize=(10, 6))\n",
    "plt.scatter(df[\"Age\"], df[\"Salary\"], color=\"blue\", edgecolor=\"black\", s=100)\n",
    "plt.title(\"Age vs Salary\")\n",
    "plt.xlabel(\"Age\")\n",
    "plt.ylabel(\"Salary\")\n",
    "plt.grid(True)\n",
    "plt.show()\n",
    "\n",
    "\n",
    "plt.figure(figsize=(10, 6))\n",
    "sns.barplot(x=\"City\", y=\"Salary\", data=df, estimator=lambda x: sum(x) / len(x), hue=\"City\", dodge=False, palette=\"viridis\", legend=False)\n",
    "plt.title(\"Average Salary by City\")\n",
    "plt.xticks(rotation=45)\n",
    "plt.ylabel(\"Average Salary\")\n",
    "plt.show()\n"
   ],
   "metadata": {
    "id": "EK7vLaqqz6h1",
    "ExecuteTime": {
     "end_time": "2025-09-01T00:43:43.096028Z",
     "start_time": "2025-09-01T00:43:42.631096Z"
    }
   },
   "outputs": [
    {
     "data": {
      "text/plain": [
       "<Figure size 1000x600 with 1 Axes>"
      ],
      "image/png": "[encoded data removed]"
     },
     "metadata": {},
     "output_type": "display_data",
     "jetTransient": {
      "display_id": null
     }
    },
    {
     "data": {
      "text/plain": [
       "<Figure size 1000x600 with 1 Axes>"
      ],
      "image/png": "[encoded data removed]"
     },
     "metadata": {},
     "output_type": "display_data",
     "jetTransient": {
      "display_id": null
     }
    }
   ],
   "execution_count": 47
  },
  {
   "cell_type": "markdown",
   "source": [
    "## Task 13: Statistics Module"
   ],
   "metadata": {
    "id": "z9NV9HdLz8ew"
   }
  },
  {
   "cell_type": "code",
   "source": [
    "4\"\"\"\n",
    "Generate a list of 1000 random numbers following a normal distribution with mean 0 and standard deviation 1.\n",
    "Using the statistics module, calculate and print:\n",
    "1. The mean\n",
    "2. The median\n",
    "3. The standard deviation\n",
    "4. The variance\n",
    "\"\"\"\n",
    "\n",
    "import random\n",
    "import statistics\n",
    "\n",
    "\n",
    "data = [random.normalvariate(0, 1) for _ in range(1000)]\n",
    "\n",
    "mean_value = statistics.mean(data)\n",
    "median_value = statistics.median(data)\n",
    "std_dev = statistics.stdev(data)\n",
    "variance_value = statistics.variance(data)\n",
    "\n",
    "\n",
    "print(f\"Mean: {mean_value}\")\n",
    "print(f\"Median: {median_value}\")\n",
    "print(f\"Standard Deviation: {std_dev}\")\n",
    "print(f\"Variance: {variance_value}\")\n",
    "\n"
   ],
   "metadata": {
    "id": "Cc5uw7A0z9ZH",
    "ExecuteTime": {
     "end_time": "2025-09-01T00:55:11.363854Z",
     "start_time": "2025-09-01T00:55:11.334562Z"
    }
   },
   "outputs": [
    {
     "name": "stdout",
     "output_type": "stream",
     "text": [
      "Mean: -0.019545990672567414\n",
      "Median: -0.003262864837084725\n",
      "Standard Deviation: 1.0141177684280134\n",
      "Variance: 1.0284348482414138\n"
     ]
    }
   ],
   "execution_count": 48
  },
  {
   "cell_type": "markdown",
   "source": [
    "## Task 14: Random Module"
   ],
   "metadata": {
    "id": "-7MXUYDI0Acs"
   }
  },
  {
   "cell_type": "code",
   "source": [
    "\"\"\"\n",
    "Create a simple game where the computer generates a random number between 1 and 100, and the user has to guess it.\n",
    "Give the user feedback after each guess (too high, too low, or correct).\n",
    "Limit the number of guesses to 7.\n",
    "\"\"\"\n",
    "\n",
    "import random\n",
    "\n",
    "number_to_guess = random.randint(1, 100)\n",
    "attempts = 7\n",
    "\n",
    "print(\"Welcome to the Number Guessing Game!\")\n",
    "print(\"I have chosen a number between 1 and 100.\")\n",
    "print(\"You have 7 attempts to guess it.\\n\")\n",
    "\n",
    "\n",
    "for i in range(attempts):\n",
    "    guess = int(input(f\"Attempt {i+1}/{attempts}. Enter your guess: \"))\n",
    "\n",
    "    if guess == number_to_guess:\n",
    "        print(\"🎉 Correct! You guessed the number!\")\n",
    "        break\n",
    "    elif guess < number_to_guess:\n",
    "        print(\"Too low! Try again.\\n\")\n",
    "    else:\n",
    "        print(\"Too high! Try again.\\n\")\n",
    "else:\n",
    "    print(f\" Sorry! You've used all {attempts} attempts. The number was {number_to_guess}.\")\n",
    "\n"
   ],
   "metadata": {
    "id": "Gxg-SVMg0BWA",
    "ExecuteTime": {
     "end_time": "2025-09-01T01:01:15.161028Z",
     "start_time": "2025-09-01T01:01:00.695658Z"
    }
   },
   "outputs": [
    {
     "name": "stdout",
     "output_type": "stream",
     "text": [
      "Welcome to the Number Guessing Game!\n",
      "I have chosen a number between 1 and 100.\n",
      "You have 7 attempts to guess it.\n",
      "\n",
      "Too high! Try again.\n",
      "\n",
      "Too high! Try again.\n",
      "\n",
      "Too high! Try again.\n",
      "\n",
      "🎉 Correct! You guessed the number!\n"
     ]
    }
   ],
   "execution_count": 52
  },
  {
   "cell_type": "markdown",
   "source": [
    "## Bonus Task: Combining Multiple Concepts"
   ],
   "metadata": {
    "id": "kdpVfiUh0EBc"
   }
  },
  {
   "cell_type": "code",
   "source": [
    "\"\"\"\n",
    "Create a class called 'BankAccount' with methods for deposit, withdraw, and check balance.\n",
    "Create multiple accounts and perform various transactions.\n",
    "Store the account information (account number, balance) in a Pandas DataFrame.\n",
    "Create a visualization of the account balances using Matplotlib or Seaborn.\n",
    "\"\"\"\n",
    "\n",
    "\n",
    "from dataclasses import dataclass, field\n",
    "import pandas as pd\n",
    "import matplotlib.pyplot as plt\n",
    "\n",
    "\n",
    "@dataclass\n",
    "class BankAccount:\n",
    "    account_number: int\n",
    "    owner: str\n",
    "    balance: float = field(default=0.0)\n",
    "\n",
    "    def deposit(self, amount: float) -> None:\n",
    "        if amount <= 0:\n",
    "            raise ValueError(\"Deposit amount must be positive.\")\n",
    "        self.balance += amount\n",
    "\n",
    "    def withdraw(self, amount: float) -> None:\n",
    "        if amount <= 0:\n",
    "            raise ValueError(\"Withdrawal amount must be positive.\")\n",
    "        if amount > self.balance:\n",
    "            raise ValueError(\"Insufficient funds.\")\n",
    "        self.balance -= amount\n",
    "\n",
    "    def get_balance(self) -> float:\n",
    "        return self.balance\n",
    "\n",
    "\n",
    "accounts = [\n",
    "    BankAccount(101, \"Alice\", 500),\n",
    "    BankAccount(102, \"Bob\", 1200),\n",
    "    BankAccount(103, \"Charlie\", 300),\n",
    "    BankAccount(104, \"David\", 900),\n",
    "    BankAccount(105, \"Eve\", 150)\n",
    "]\n",
    "\n",
    "\n",
    "accounts[0].deposit(200)\n",
    "accounts[1].withdraw(250)\n",
    "accounts[2].deposit(1000)\n",
    "accounts[3].withdraw(400)\n",
    "accounts[4].deposit(350)\n",
    "\n",
    "\n",
    "df_accounts = pd.DataFrame([{\n",
    "    \"AccountNumber\": acc.account_number,\n",
    "    \"Owner\": acc.owner,\n",
    "    \"Balance\": round(acc.get_balance(), 2)\n",
    "} for acc in accounts])\n",
    "\n",
    "print(df_accounts)\n",
    "\n",
    "\n",
    "plt.figure(figsize=(9, 5))\n",
    "plt.bar(df_accounts[\"Owner\"], df_accounts[\"Balance\"], edgecolor=\"black\")\n",
    "plt.title(\"Account Balances\")\n",
    "plt.xlabel(\"Owner\")\n",
    "plt.ylabel(\"Balance ($)\")\n",
    "plt.grid(axis=\"y\", linestyle=\"--\", alpha=0.5)\n",
    "for x, y in zip(df_accounts[\"Owner\"], df_accounts[\"Balance\"]):\n",
    "    plt.text(x, y + max(df_accounts[\"Balance\"])*0.02, f\"${y:.0f}\", ha=\"center\")\n",
    "plt.tight_layout()\n",
    "plt.show()\n",
    "\n"
   ],
   "metadata": {
    "id": "i0Zr8ZbR0GIc",
    "ExecuteTime": {
     "end_time": "2025-09-01T01:02:21.849629Z",
     "start_time": "2025-09-01T01:02:21.595126Z"
    }
   },
   "outputs": [
    {
     "name": "stdout",
     "output_type": "stream",
     "text": [
      "   AccountNumber    Owner  Balance\n",
      "0            101    Alice      700\n",
      "1            102      Bob      950\n",
      "2            103  Charlie     1300\n",
      "3            104    David      500\n",
      "4            105      Eve      500\n"
     ]
    },
    {
     "data": {
      "text/plain": [
       "<Figure size 900x500 with 1 Axes>"
      ],
      "image/png": "[encoded data removed]"
     },
     "metadata": {},
     "output_type": "display_data",
     "jetTransient": {
      "display_id": null
     }
    }
   ],
   "execution_count": 53
  }
 ]
}
